{
  "nbformat": 4,
  "nbformat_minor": 0,
  "metadata": {
    "colab": {
      "provenance": []
    },
    "kernelspec": {
      "name": "python3",
      "display_name": "Python 3"
    },
    "language_info": {
      "name": "python"
    }
  },
  "cells": [
    {
      "cell_type": "code",
      "execution_count": 1,
      "metadata": {
        "id": "dXbCBdD8G3yE"
      },
      "outputs": [],
      "source": [
        "#подгрузим требуемые библиотеки\n",
        "import pandas as pd\n",
        "import requests\n",
        "from bs4 import BeautifulSoup\n",
        "import json\n",
        "import csv\n",
        "from tqdm import tqdm "
      ]
    },
    {
      "cell_type": "code",
      "source": [
        "#сохраним User_agent и проверим код статуса ответа\n",
        "HEADERS = {'User-Agent' : 'Mozilla/5.0 (Macintosh; Intel Mac OS X 10_15_7) AppleWebKit/537.36 (KHTML, like Gecko) Chrome/111.0.0.0 Safari/537.36'}\n",
        "page = requests.get('https://www.lsgeotar.ru/pages/abc-pharma_tn.html', headers=HEADERS,verify=False, timeout=5)\n",
        "page.status_code"
      ],
      "metadata": {
        "colab": {
          "base_uri": "https://localhost:8080/"
        },
        "id": "ISiQiCFulkF4",
        "outputId": "9714d70f-4a54-4505-b5ee-df269cd150cc"
      },
      "execution_count": 11,
      "outputs": [
        {
          "output_type": "stream",
          "name": "stderr",
          "text": [
            "/usr/local/lib/python3.10/dist-packages/urllib3/connectionpool.py:1045: InsecureRequestWarning: Unverified HTTPS request is being made to host 'www.lsgeotar.ru'. Adding certificate verification is strongly advised. See: https://urllib3.readthedocs.io/en/1.26.x/advanced-usage.html#ssl-warnings\n",
            "  warnings.warn(\n"
          ]
        },
        {
          "output_type": "execute_result",
          "data": {
            "text/plain": [
              "200"
            ]
          },
          "metadata": {},
          "execution_count": 11
        }
      ]
    },
    {
      "cell_type": "code",
      "source": [
        "#Функция для получения HTML кода страницы\n",
        "def get_url(url):\n",
        "  headers = {'User-Agent' : 'Mozilla/5.0 (Macintosh; Intel Mac OS X 10_15_7) AppleWebKit/537.36 (KHTML, like Gecko) Chrome/111.0.0.0 Safari/537.36'}\n",
        "  page = requests.get(url, headers=HEADERS, verify=False, timeout=20)\n",
        "  return page.text"
      ],
      "metadata": {
        "id": "7egp3pgplj-B"
      },
      "execution_count": 13,
      "outputs": []
    },
    {
      "cell_type": "code",
      "source": [
        "#Функция для получения ссылок на все страницы каталога, т.е. страница с препаратами на букву А,Б,В и т.д.\n",
        "def get_all_pages(html):\n",
        "  soup = BeautifulSoup(html, 'lxml')\n",
        "  pages = soup.find('div', class_=\"abc_cyr\").find_all('a')\n",
        "  pages.extend(soup.find('div', class_=\"abc_latin\").find_all('a'))\n",
        "  pages.extend(soup.find('div', class_=\"abc_num\").find_all('a'))\n",
        "  pages_list = [pages[i].get('href') for i in range(len(pages))]\n",
        "  return pages_list"
      ],
      "metadata": {
        "id": "ccjNMXZsljRx"
      },
      "execution_count": 4,
      "outputs": []
    },
    {
      "cell_type": "code",
      "source": [
        "#Функция для получения ссылок на все препараты страницы\n",
        "def get_drug_list_url(html):\n",
        "  soup = BeautifulSoup(html, 'lxml')\n",
        "  pages = soup.find('div',class_='wrap-abc-items').find_all('div', class_='clearfix wrap-abc-pharma')\n",
        "  medication_urls = [pages[i].find('a', class_='title-tn-link').get('href') for i in range(len(pages))]\n",
        "  return medication_urls"
      ],
      "metadata": {
        "id": "HJf-TyBe4vqY"
      },
      "execution_count": 17,
      "outputs": []
    },
    {
      "cell_type": "code",
      "source": [
        "#Ну и собственно парсим нужные нам поля из карточки\n",
        "def get_medication_info(html):\n",
        "  soup = BeautifulSoup(html, 'lxml')\n",
        "  try:\n",
        "    name = soup.find('div', class_=\"name-tn-mnn-text\").find('span', class_=\"value\").text\n",
        "  except:\n",
        "    name = ''\n",
        "  try:\n",
        "    substance = soup.find('article',class_='all-article-preparat ls-preparat-tn col-md-9 col-sm-12 col-xs-12').find('span', class_='value').text\n",
        "  except:\n",
        "    substance = ''\n",
        "  try:\n",
        "    form = soup.find('section', class_=\"ls-dosage-form general-section\").find('span', class_=\"value\").text\n",
        "  except:\n",
        "    form = ''\n",
        "  try:\n",
        "    description = soup.find('section',class_='ls-pokazaniya general-section').find('span', class_='value').text\n",
        "  except:\n",
        "    description = ''\n",
        "  try:\n",
        "    contraindications = soup.find('div',class_='container-content-preparat').find('section', class_='ls-protivopokazaniya general-section').find('p').text\n",
        "  except:\n",
        "    contraindications = ''\n",
        "\n",
        "  return name, substance, form, description, contraindications"
      ],
      "metadata": {
        "id": "uHljBskm40Zb"
      },
      "execution_count": 95,
      "outputs": []
    },
    {
      "cell_type": "code",
      "source": [
        "#def write_to_csv(data):\n",
        " # with open('drugs_data.csv', 'a') as f:\n",
        "  #  writer = csv.writer(f)\n",
        "#\n",
        " #   writer.writerow( (data['name'],\n",
        "  #                    data['substance'],\n",
        "   #                   data['description'],\n",
        "    #                  data['contraindication'],\n",
        "     #                 data['url']))"
      ],
      "metadata": {
        "id": "p-hXo6UXZifb"
      },
      "execution_count": 83,
      "outputs": []
    },
    {
      "cell_type": "markdown",
      "source": [
        "Сохранял датасет сначала через контекстный менеджер, но в формат данных при таком сохранении у меня на компьютере оказался плохо читаемым. В итоге просто объединил все данные в датасет и сохранил при помощи to_csv()"
      ],
      "metadata": {
        "id": "si5FRZ4XuNI8"
      }
    },
    {
      "cell_type": "code",
      "source": [
        "# Запускаем получившися скипт и собственно парсим требуемы данные с сайта, пока просто по спискам\n",
        "if __name__==\"__main__\":\n",
        "  medication_urls = []\n",
        "  names = []\n",
        "  substances = []\n",
        "  forms = []\n",
        "  descriptions = []\n",
        "  contraindication_1 = []\n",
        "  for i in get_all_pages(get_url('https://www.lsgeotar.ru/pages/abc-pharma_tn.html')):\n",
        "    for j in tqdm(get_drug_list_url(get_url(i))):\n",
        "      medication_urls.append(j)\n",
        "      info = get_medication_info(get_url(j))\n",
        "      names.append(info[0])\n",
        "      substances.append(info[1])\n",
        "      forms.append(info[2])\n",
        "      descriptions.append(info[3])\n",
        "      contraindication_1.append(info[4])"
      ],
      "metadata": {
        "id": "uHKZsFQC40cC"
      },
      "execution_count": null,
      "outputs": []
    },
    {
      "cell_type": "code",
      "source": [
        "# Объединим все полученные переменные в один словарь\n",
        "data = {'name': names,\n",
        "        'substance': substances,\n",
        "        'form': forms,\n",
        "        'description':descriptions,\n",
        "        'contraindication':contraindication_1,\n",
        "        'url':medication_urls}"
      ],
      "metadata": {
        "id": "aQJhswtzrYkJ"
      },
      "execution_count": 84,
      "outputs": []
    },
    {
      "cell_type": "code",
      "source": [
        "#write_to_csv(data)"
      ],
      "metadata": {
        "id": "MnWs1xKP8d14"
      },
      "execution_count": 85,
      "outputs": []
    },
    {
      "cell_type": "code",
      "source": [
        "df = pd.DataFrame(data)"
      ],
      "metadata": {
        "id": "7KRzTDs2XHS1"
      },
      "execution_count": 86,
      "outputs": []
    },
    {
      "cell_type": "code",
      "source": [
        "df.to_csv('drug_df.csv')"
      ],
      "metadata": {
        "id": "oT1ncT8240hQ"
      },
      "execution_count": 90,
      "outputs": []
    },
    {
      "cell_type": "code",
      "source": [
        "data = pd.read_excel('/content/drive/MyDrive/Doc24/Drugs/drug_df.xlsx')"
      ],
      "metadata": {
        "id": "bjXeRsTC40kF"
      },
      "execution_count": 18,
      "outputs": []
    },
    {
      "cell_type": "code",
      "source": [
        "#Собственно результат\n",
        "data.drop(['Unnamed: 0','url'], axis=1).head()"
      ],
      "metadata": {
        "colab": {
          "base_uri": "https://localhost:8080/",
          "height": 337
        },
        "id": "zhRw_kcn8kC6",
        "outputId": "f99863de-882b-4dc3-c6b9-537be50ad6e0"
      },
      "execution_count": 26,
      "outputs": [
        {
          "output_type": "execute_result",
          "data": {
            "text/plain": [
              "           name                 substance  \\\n",
              "0         Б-190   Индолилметиламиноэтанол   \n",
              "1      Бавенсио                  Авелумаб   \n",
              "2     Багодилол                Карведилол   \n",
              "3  Багомет Плюс  Глибенкламид + Метформин   \n",
              "4       Багомет                 Метформин   \n",
              "\n",
              "                                         description  \\\n",
              "0  Б-190 применяют в качестве профилактического р...   \n",
              "1  Монотерапия у взрослых ранее леченных пациенто...   \n",
              "2  - Артериальная гипертензия (монотерапия и в ко...   \n",
              "3  Сахарный диабет 2 типа у взрослых:    в качест...   \n",
              "4  Сахарный диабет 2 типа, особенно в сочетании с...   \n",
              "\n",
              "                                    contraindication  \n",
              "0  Б-190 противопоказан при артериальной гипертон...  \n",
              "1  - Гиперчувствительность к препарату БАВЕНСИО и...  \n",
              "2  Повышенная чувствительность к карведилолу или ...  \n",
              "3                                                     \n",
              "4  - Повышенная чувствительность к метформину или...  "
            ],
            "text/html": [
              "\n",
              "  <div id=\"df-8f7a2557-0832-4463-a855-3fdaaf7f4a15\">\n",
              "    <div class=\"colab-df-container\">\n",
              "      <div>\n",
              "<style scoped>\n",
              "    .dataframe tbody tr th:only-of-type {\n",
              "        vertical-align: middle;\n",
              "    }\n",
              "\n",
              "    .dataframe tbody tr th {\n",
              "        vertical-align: top;\n",
              "    }\n",
              "\n",
              "    .dataframe thead th {\n",
              "        text-align: right;\n",
              "    }\n",
              "</style>\n",
              "<table border=\"1\" class=\"dataframe\">\n",
              "  <thead>\n",
              "    <tr style=\"text-align: right;\">\n",
              "      <th></th>\n",
              "      <th>name</th>\n",
              "      <th>substance</th>\n",
              "      <th>description</th>\n",
              "      <th>contraindication</th>\n",
              "    </tr>\n",
              "  </thead>\n",
              "  <tbody>\n",
              "    <tr>\n",
              "      <th>0</th>\n",
              "      <td>Б-190</td>\n",
              "      <td>Индолилметиламиноэтанол</td>\n",
              "      <td>Б-190 применяют в качестве профилактического р...</td>\n",
              "      <td>Б-190 противопоказан при артериальной гипертон...</td>\n",
              "    </tr>\n",
              "    <tr>\n",
              "      <th>1</th>\n",
              "      <td>Бавенсио</td>\n",
              "      <td>Авелумаб</td>\n",
              "      <td>Монотерапия у взрослых ранее леченных пациенто...</td>\n",
              "      <td>- Гиперчувствительность к препарату БАВЕНСИО и...</td>\n",
              "    </tr>\n",
              "    <tr>\n",
              "      <th>2</th>\n",
              "      <td>Багодилол</td>\n",
              "      <td>Карведилол</td>\n",
              "      <td>- Артериальная гипертензия (монотерапия и в ко...</td>\n",
              "      <td>Повышенная чувствительность к карведилолу или ...</td>\n",
              "    </tr>\n",
              "    <tr>\n",
              "      <th>3</th>\n",
              "      <td>Багомет Плюс</td>\n",
              "      <td>Глибенкламид + Метформин</td>\n",
              "      <td>Сахарный диабет 2 типа у взрослых:    в качест...</td>\n",
              "      <td></td>\n",
              "    </tr>\n",
              "    <tr>\n",
              "      <th>4</th>\n",
              "      <td>Багомет</td>\n",
              "      <td>Метформин</td>\n",
              "      <td>Сахарный диабет 2 типа, особенно в сочетании с...</td>\n",
              "      <td>- Повышенная чувствительность к метформину или...</td>\n",
              "    </tr>\n",
              "  </tbody>\n",
              "</table>\n",
              "</div>\n",
              "      <button class=\"colab-df-convert\" onclick=\"convertToInteractive('df-8f7a2557-0832-4463-a855-3fdaaf7f4a15')\"\n",
              "              title=\"Convert this dataframe to an interactive table.\"\n",
              "              style=\"display:none;\">\n",
              "        \n",
              "  <svg xmlns=\"http://www.w3.org/2000/svg\" height=\"24px\"viewBox=\"0 0 24 24\"\n",
              "       width=\"24px\">\n",
              "    <path d=\"M0 0h24v24H0V0z\" fill=\"none\"/>\n",
              "    <path d=\"M18.56 5.44l.94 2.06.94-2.06 2.06-.94-2.06-.94-.94-2.06-.94 2.06-2.06.94zm-11 1L8.5 8.5l.94-2.06 2.06-.94-2.06-.94L8.5 2.5l-.94 2.06-2.06.94zm10 10l.94 2.06.94-2.06 2.06-.94-2.06-.94-.94-2.06-.94 2.06-2.06.94z\"/><path d=\"M17.41 7.96l-1.37-1.37c-.4-.4-.92-.59-1.43-.59-.52 0-1.04.2-1.43.59L10.3 9.45l-7.72 7.72c-.78.78-.78 2.05 0 2.83L4 21.41c.39.39.9.59 1.41.59.51 0 1.02-.2 1.41-.59l7.78-7.78 2.81-2.81c.8-.78.8-2.07 0-2.86zM5.41 20L4 18.59l7.72-7.72 1.47 1.35L5.41 20z\"/>\n",
              "  </svg>\n",
              "      </button>\n",
              "      \n",
              "  <style>\n",
              "    .colab-df-container {\n",
              "      display:flex;\n",
              "      flex-wrap:wrap;\n",
              "      gap: 12px;\n",
              "    }\n",
              "\n",
              "    .colab-df-convert {\n",
              "      background-color: #E8F0FE;\n",
              "      border: none;\n",
              "      border-radius: 50%;\n",
              "      cursor: pointer;\n",
              "      display: none;\n",
              "      fill: #1967D2;\n",
              "      height: 32px;\n",
              "      padding: 0 0 0 0;\n",
              "      width: 32px;\n",
              "    }\n",
              "\n",
              "    .colab-df-convert:hover {\n",
              "      background-color: #E2EBFA;\n",
              "      box-shadow: 0px 1px 2px rgba(60, 64, 67, 0.3), 0px 1px 3px 1px rgba(60, 64, 67, 0.15);\n",
              "      fill: #174EA6;\n",
              "    }\n",
              "\n",
              "    [theme=dark] .colab-df-convert {\n",
              "      background-color: #3B4455;\n",
              "      fill: #D2E3FC;\n",
              "    }\n",
              "\n",
              "    [theme=dark] .colab-df-convert:hover {\n",
              "      background-color: #434B5C;\n",
              "      box-shadow: 0px 1px 3px 1px rgba(0, 0, 0, 0.15);\n",
              "      filter: drop-shadow(0px 1px 2px rgba(0, 0, 0, 0.3));\n",
              "      fill: #FFFFFF;\n",
              "    }\n",
              "  </style>\n",
              "\n",
              "      <script>\n",
              "        const buttonEl =\n",
              "          document.querySelector('#df-8f7a2557-0832-4463-a855-3fdaaf7f4a15 button.colab-df-convert');\n",
              "        buttonEl.style.display =\n",
              "          google.colab.kernel.accessAllowed ? 'block' : 'none';\n",
              "\n",
              "        async function convertToInteractive(key) {\n",
              "          const element = document.querySelector('#df-8f7a2557-0832-4463-a855-3fdaaf7f4a15');\n",
              "          const dataTable =\n",
              "            await google.colab.kernel.invokeFunction('convertToInteractive',\n",
              "                                                     [key], {});\n",
              "          if (!dataTable) return;\n",
              "\n",
              "          const docLinkHtml = 'Like what you see? Visit the ' +\n",
              "            '<a target=\"_blank\" href=https://colab.research.google.com/notebooks/data_table.ipynb>data table notebook</a>'\n",
              "            + ' to learn more about interactive tables.';\n",
              "          element.innerHTML = '';\n",
              "          dataTable['output_type'] = 'display_data';\n",
              "          await google.colab.output.renderOutput(dataTable, element);\n",
              "          const docLink = document.createElement('div');\n",
              "          docLink.innerHTML = docLinkHtml;\n",
              "          element.appendChild(docLink);\n",
              "        }\n",
              "      </script>\n",
              "    </div>\n",
              "  </div>\n",
              "  "
            ]
          },
          "metadata": {},
          "execution_count": 26
        }
      ]
    }
  ]
}